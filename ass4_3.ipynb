{
  "nbformat": 4,
  "nbformat_minor": 0,
  "metadata": {
    "colab": {
      "provenance": [],
      "authorship_tag": "ABX9TyPoF0W8seP+C5d9drsTdC0h",
      "include_colab_link": true
    },
    "kernelspec": {
      "name": "python3",
      "display_name": "Python 3"
    },
    "language_info": {
      "name": "python"
    }
  },
  "cells": [
    {
      "cell_type": "markdown",
      "metadata": {
        "id": "view-in-github",
        "colab_type": "text"
      },
      "source": [
        "<a href=\"https://colab.research.google.com/github/Nagarjuna-Sunkari/Nagarjuna-Sunkari/blob/main/ass4_3.ipynb\" target=\"_parent\"><img src=\"https://colab.research.google.com/assets/colab-badge.svg\" alt=\"Open In Colab\"/></a>"
      ]
    },
    {
      "cell_type": "code",
      "execution_count": 2,
      "metadata": {
        "id": "Bdy_e8n8uE7s"
      },
      "outputs": [],
      "source": [
        "# Task Description#1\n",
        "# Zero-shot: Prompt AI to write a function that checks whether a given year is a leap\n",
        "# year.\n",
        "# Expected Output#1\n",
        "# AI-generated function with no examples provided"
      ]
    },
    {
      "cell_type": "code",
      "metadata": {
        "colab": {
          "base_uri": "https://localhost:8080/"
        },
        "id": "a40e9c60",
        "outputId": "7179b3f8-c3c6-43b4-ccd8-5b19dd1fcc61"
      },
      "source": [
        "def is_leap(year):\n",
        "  \"\"\"\n",
        "  Checks if a given year is a leap year.\n",
        "\n",
        "  Args:\n",
        "    year: The year to check.\n",
        "\n",
        "  Returns:\n",
        "    True if the year is a leap year, False otherwise.\n",
        "  \"\"\"\n",
        "  return (year % 4 == 0 and year % 100 != 0) or (year % 400 == 0)\n",
        "\n",
        "# Example usage\n",
        "print(f\"2000 is a leap year: {is_leap(2000)}\")\n",
        "print(f\"1900 is a leap year: {is_leap(1900)}\")\n",
        "print(f\"2024 is a leap year: {is_leap(2024)}\")\n",
        "print(f\"2023 is a leap year: {is_leap(2023)}\")"
      ],
      "execution_count": 3,
      "outputs": [
        {
          "output_type": "stream",
          "name": "stdout",
          "text": [
            "2000 is a leap year: True\n",
            "1900 is a leap year: False\n",
            "2024 is a leap year: True\n",
            "2023 is a leap year: False\n"
          ]
        }
      ]
    },
    {
      "cell_type": "markdown",
      "metadata": {
        "id": "65ec7c7e"
      },
      "source": [
        "**Explanation of the code:**\n",
        "\n",
        "The function `is_leap(year)` takes a year as input and returns `True` if it's a leap year, and `False` otherwise. It follows the rules for determining a leap year:\n",
        "\n",
        "1. **If the year is divisible by 4:**\n",
        "   - It could be a leap year.\n",
        "   - We then check if it's also divisible by 100.\n",
        "     - If it's divisible by 100, it's *not* a leap year unless it's also divisible by 400.\n",
        "     - If it's *not* divisible by 100, it *is* a leap year.\n",
        "2. **If the year is not divisible by 4:**\n",
        "   - It is not a leap year.\n",
        "\n",
        "The code implements this logic using the modulo operator (`%`) to check for divisibility. The `and` and `or` operators are used to combine the conditions according to the leap year rules."
      ]
    },
    {
      "cell_type": "code",
      "source": [
        "Task Description#2\n",
        "# One-shot: Give one input-output example to guide AI in writing a function that\n",
        "# converts centimeters to inches.\n",
        "# Expected Output#2\n",
        "# Function with correct conversion logic"
      ],
      "metadata": {
        "colab": {
          "base_uri": "https://localhost:8080/",
          "height": 106
        },
        "id": "QHDdGjJEvXDZ",
        "outputId": "51165527-7f5e-4bad-c5bb-fb4ab486f9d6"
      },
      "execution_count": 8,
      "outputs": [
        {
          "output_type": "error",
          "ename": "SyntaxError",
          "evalue": "invalid syntax (ipython-input-1107765311.py, line 1)",
          "traceback": [
            "\u001b[0;36m  File \u001b[0;32m\"/tmp/ipython-input-1107765311.py\"\u001b[0;36m, line \u001b[0;32m1\u001b[0m\n\u001b[0;31m    Task Description#2\u001b[0m\n\u001b[0m         ^\u001b[0m\n\u001b[0;31mSyntaxError\u001b[0m\u001b[0;31m:\u001b[0m invalid syntax\n"
          ]
        }
      ]
    },
    {
      "cell_type": "code",
      "metadata": {
        "colab": {
          "base_uri": "https://localhost:8080/"
        },
        "id": "acffd474",
        "outputId": "61049a74-a76c-4b97-e6e0-3f73634492eb"
      },
      "source": [
        "# Example: 10 centimeters should be approximately 3.937 inches\n",
        "\n",
        "def cm_to_inches(cm):\n",
        "  \"\"\"\n",
        "  Converts centimeters to inches.\n",
        "\n",
        "  Args:\n",
        "    cm: The length in centimeters.\n",
        "\n",
        "  Returns:\n",
        "    The length in inches.\n",
        "  \"\"\"\n",
        "  return cm * 0.393701\n",
        "\n",
        "# Using the example\n",
        "example_cm = 10\n",
        "example_inches = cm_to_inches(example_cm)\n",
        "print(f\"{example_cm} centimeters is equal to {example_inches:.3f} inches\")"
      ],
      "execution_count": 11,
      "outputs": [
        {
          "output_type": "stream",
          "name": "stdout",
          "text": [
            "10 centimeters is equal to 3.937 inches\n"
          ]
        }
      ]
    },
    {
      "cell_type": "markdown",
      "metadata": {
        "id": "1462a08a"
      },
      "source": [
        "**Explanation of the code:**\n",
        "\n",
        "The function `cm_to_inches(cm)` takes a value in centimeters (`cm`) as input and converts it to inches.\n",
        "\n",
        "The conversion is done by multiplying the centimeter value by the conversion factor: 1 inch = 0.393701 centimeters.\n",
        "\n",
        "The example in the code shows how to use the function with 10 centimeters and prints the result formatted to three decimal places."
      ]
    },
    {
      "cell_type": "code",
      "source": [
        "# Task Description#3\n",
        "# Few-shot: Provide 2–3 examples to generate a function that formats full names as\n",
        "# “Last, First”.\n",
        "# Expected Output#3\n",
        "# Well-structured function respecting the examples"
      ],
      "metadata": {
        "id": "e_LFEuJJvn6v"
      },
      "execution_count": 12,
      "outputs": []
    },
    {
      "cell_type": "code",
      "metadata": {
        "colab": {
          "base_uri": "https://localhost:8080/"
        },
        "id": "b4c48498",
        "outputId": "f6b97a60-8a59-4958-d899-5eeec53d4860"
      },
      "source": [
        "# Examples:\n",
        "# \"John Doe\" -> \"Doe, John\"\n",
        "# \"Jane Smith\" -> \"Smith, Jane\"\n",
        "\n",
        "def format_name(full_name):\n",
        "  \"\"\"\n",
        "  Formats a full name as \"Last, First\".\n",
        "\n",
        "  Args:\n",
        "    full_name: The full name string (e.g., \"John Doe\").\n",
        "\n",
        "  Returns:\n",
        "    The formatted name string (e.g., \"Doe, John\").\n",
        "  \"\"\"\n",
        "  names = full_name.split()\n",
        "  if len(names) >= 2:\n",
        "    return f\"{names[-1]}, {' '.join(names[:-1])}\"\n",
        "  else:\n",
        "    return full_name # Handle cases with only a first name or single word\n",
        "\n",
        "# Using the examples\n",
        "print(f\"'John Doe' formatted: {format_name('John Doe')}\")\n",
        "print(f\"'Jane Smith' formatted: {format_name('Jane Smith')}\")\n",
        "print(f\"'Peter' formatted: {format_name('Peter')}\")"
      ],
      "execution_count": 13,
      "outputs": [
        {
          "output_type": "stream",
          "name": "stdout",
          "text": [
            "'John Doe' formatted: Doe, John\n",
            "'Jane Smith' formatted: Smith, Jane\n",
            "'Peter' formatted: Peter\n"
          ]
        }
      ]
    },
    {
      "cell_type": "markdown",
      "metadata": {
        "id": "229c1c8b"
      },
      "source": [
        "**Explanation of the code:**\n",
        "\n",
        "The function `format_name(full_name)` takes a full name as input and rearranges it to the format \"Last, First\".\n",
        "\n",
        "1.  **Splitting the name:** It first splits the `full_name` string into a list of individual names using the `split()` method, which by default splits on whitespace.\n",
        "2.  **Checking for sufficient names:** It checks if there are at least two names in the list. If not (e.g., only a first name is provided), it returns the original input.\n",
        "3.  **Formatting the name:** If there are two or more names, it takes the last name (`names[-1]`) and joins the remaining names (`names[:-1]`) with a space, then combines them with a comma and space in the \"Last, First\" format using an f-string.\n",
        "\n",
        "The examples show how the function handles names with two parts and a name with only one part."
      ]
    },
    {
      "cell_type": "code",
      "source": [
        "# Task Description#4\n",
        "# Compare zero-shot and few-shot prompts for writing a function that counts the\n",
        "# number of vowels in a string.\n",
        "# Expected Output#4\n",
        "# Functional output and comparative reflection"
      ],
      "metadata": {
        "id": "98wzqnqDxCXU"
      },
      "execution_count": 14,
      "outputs": []
    },
    {
      "cell_type": "markdown",
      "metadata": {
        "id": "f59f137b"
      },
      "source": [
        "### Zero-shot Prompt\n",
        "\n",
        "Here's a function to count vowels generated with a zero-shot prompt (no examples provided)."
      ]
    },
    {
      "cell_type": "code",
      "metadata": {
        "colab": {
          "base_uri": "https://localhost:8080/"
        },
        "id": "d4a715ae",
        "outputId": "67af3b48-1d7a-4358-d93c-0ae95f81308c"
      },
      "source": [
        "def count_vowels_zero_shot(text):\n",
        "  \"\"\"\n",
        "  Counts the number of vowels in a string.\n",
        "\n",
        "  Args:\n",
        "    text: The input string.\n",
        "\n",
        "  Returns:\n",
        "    The number of vowels in the string.\n",
        "  \"\"\"\n",
        "  vowels = \"aeiouAEIOU\"\n",
        "  count = 0\n",
        "  for char in text:\n",
        "    if char in vowels:\n",
        "      count += 1\n",
        "  return count\n",
        "\n",
        "# Test the zero-shot function\n",
        "print(f\"Zero-shot count for 'Hello World': {count_vowels_zero_shot('Hello World')}\")\n",
        "print(f\"Zero-shot count for 'Python Programming': {count_vowels_zero_shot('Python Programming')}\")"
      ],
      "execution_count": 15,
      "outputs": [
        {
          "output_type": "stream",
          "name": "stdout",
          "text": [
            "Zero-shot count for 'Hello World': 3\n",
            "Zero-shot count for 'Python Programming': 4\n"
          ]
        }
      ]
    },
    {
      "cell_type": "markdown",
      "metadata": {
        "id": "b1d978af"
      },
      "source": [
        "### Few-shot Prompt\n",
        "\n",
        "Here's a function to count vowels generated with a few-shot prompt (with examples provided).\n",
        "\n",
        "**Examples:**\n",
        "\"hello\" -> 2\n",
        "\"world\" -> 1\n",
        "\"AEIOU\" -> 5"
      ]
    },
    {
      "cell_type": "code",
      "metadata": {
        "colab": {
          "base_uri": "https://localhost:8080/"
        },
        "id": "c103812a",
        "outputId": "191497d8-a17b-46c0-b275-8f6966033b3c"
      },
      "source": [
        "# Examples:\n",
        "# \"hello\" -> 2\n",
        "# \"world\" -> 1\n",
        "# \"AEIOU\" -> 5\n",
        "\n",
        "def count_vowels_few_shot(text):\n",
        "  \"\"\"\n",
        "  Counts the number of vowels in a string based on provided examples.\n",
        "\n",
        "  Args:\n",
        "    text: The input string.\n",
        "\n",
        "  Returns:\n",
        "    The number of vowels in the string.\n",
        "  \"\"\"\n",
        "  vowels = \"aeiouAEIOU\"\n",
        "  count = 0\n",
        "  for char in text:\n",
        "    if char in vowels:\n",
        "      count += 1\n",
        "  return count\n",
        "\n",
        "# Test the few-shot function\n",
        "print(f\"Few-shot count for 'Hello World': {count_vowels_few_shot('Hello World')}\")\n",
        "print(f\"Few-shot count for 'Python Programming': {count_vowels_few_shot('Python Programming')}\")"
      ],
      "execution_count": 16,
      "outputs": [
        {
          "output_type": "stream",
          "name": "stdout",
          "text": [
            "Few-shot count for 'Hello World': 3\n",
            "Few-shot count for 'Python Programming': 4\n"
          ]
        }
      ]
    },
    {
      "cell_type": "markdown",
      "metadata": {
        "id": "892d1cc2"
      },
      "source": [
        "### Comparative Reflection\n",
        "\n",
        "In this case, both the zero-shot and few-shot prompts produced the same correct function for counting vowels. This is because counting vowels is a relatively straightforward task with well-defined rules.\n",
        "\n",
        "However, for more complex or ambiguous tasks, providing examples in a few-shot prompt can significantly improve the quality and relevance of the generated code. The examples help guide the AI towards the desired output format and logic, reducing the chances of misinterpretation or generating code that doesn't fully meet the requirements.\n",
        "\n",
        "In summary:\n",
        "\n",
        "*   **Zero-shot:** Useful for simple, unambiguous tasks where the AI can rely on its pre-existing knowledge.\n",
        "*   **Few-shot:** More effective for complex or nuanced tasks where examples provide necessary context and guidance for the AI to generate accurate and relevant code."
      ]
    },
    {
      "cell_type": "code",
      "source": [
        "# Task Description#5\n",
        "# Use few-shot prompting to generate a function that reads a .txt file and returns the\n",
        "# number of lines.\n",
        "# Expected Output#5\n",
        "# Working file-processing function with AI-guided logic"
      ],
      "metadata": {
        "id": "MviUFmMCxsM4"
      },
      "execution_count": 17,
      "outputs": []
    },
    {
      "cell_type": "markdown",
      "metadata": {
        "id": "304a70d5"
      },
      "source": [
        "### Few-shot Prompt\n",
        "\n",
        "Here's a function to count lines in a text file generated with a few-shot prompt (with examples provided).\n",
        "\n",
        "**Example:**\n",
        "\n",
        "Given a file named `example.txt` with the following content:"
      ]
    },
    {
      "cell_type": "code",
      "metadata": {
        "colab": {
          "base_uri": "https://localhost:8080/"
        },
        "id": "be64933c",
        "outputId": "cefd694c-e3d1-4be6-9285-b29b74a7dc43"
      },
      "source": [
        "# Create a dummy text file for demonstration\n",
        "with open(\"example.txt\", \"w\") as f:\n",
        "  f.write(\"Line 1\\n\")\n",
        "  f.write(\"Line 2\\n\")\n",
        "  f.write(\"Line 3\\n\")\n",
        "\n",
        "# Example:\n",
        "# Given a file named 'example.txt' with 3 lines, the function should return 3.\n",
        "\n",
        "def count_lines_in_file(filename):\n",
        "  \"\"\"\n",
        "  Reads a text file and returns the number of lines.\n",
        "\n",
        "  Args:\n",
        "    filename: The name of the text file.\n",
        "\n",
        "  Returns:\n",
        "    The number of lines in the file.\n",
        "  \"\"\"\n",
        "  try:\n",
        "    with open(filename, 'r') as f:\n",
        "      lines = f.readlines()\n",
        "      return len(lines)\n",
        "  except FileNotFoundError:\n",
        "    return f\"Error: File '{filename}' not found.\"\n",
        "\n",
        "# Using the example\n",
        "file_name = \"example.txt\"\n",
        "line_count = count_lines_in_file(file_name)\n",
        "print(f\"The file '{file_name}' has {line_count} lines.\")"
      ],
      "execution_count": 18,
      "outputs": [
        {
          "output_type": "stream",
          "name": "stdout",
          "text": [
            "The file 'example.txt' has 3 lines.\n"
          ]
        }
      ]
    },
    {
      "cell_type": "markdown",
      "metadata": {
        "id": "35ee22f1"
      },
      "source": [
        "**Explanation of the code:**\n",
        "\n",
        "The function `count_lines_in_file(filename)` takes a filename as input and returns the number of lines in that file.\n",
        "\n",
        "1.  **File Handling:** It uses a `try...except` block to handle potential `FileNotFoundError` if the specified file doesn't exist.\n",
        "2.  **Opening the File:** Inside the `try` block, it opens the file in read mode (`'r'`) using a `with` statement. This ensures the file is automatically closed even if errors occur.\n",
        "3.  **Reading Lines:** `f.readlines()` reads all lines from the file and returns them as a list of strings, where each string is a line from the file (including the newline character).\n",
        "4.  **Counting Lines:** `len(lines)` calculates the number of elements in the list, which corresponds to the number of lines in the file.\n",
        "5.  **Returning the Count:** The function returns the calculated line count.\n",
        "6.  **Error Handling:** If a `FileNotFoundError` occurs, the `except` block is executed, and an error message is returned.\n",
        "\n",
        "The example demonstrates how to use the function with a dummy file named `example.txt`."
      ]
    }
  ]
}